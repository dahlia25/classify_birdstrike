{
 "cells": [
  {
   "cell_type": "code",
   "execution_count": 48,
   "metadata": {
    "ExecuteTime": {
     "end_time": "2018-08-04T17:58:25.715753Z",
     "start_time": "2018-08-04T17:58:25.705887Z"
    }
   },
   "outputs": [],
   "source": [
    "import numpy as np\n",
    "import pandas as pd\n",
    "import matplotlib.pyplot as plt\n",
    "import seaborn as sns\n",
    "import pickle as pkl"
   ]
  },
  {
   "cell_type": "code",
   "execution_count": 49,
   "metadata": {
    "ExecuteTime": {
     "end_time": "2018-08-04T17:58:30.943563Z",
     "start_time": "2018-08-04T17:58:28.857155Z"
    }
   },
   "outputs": [],
   "source": [
    "bird_strike = pd.read_csv('birdstrikes.csv', delimiter=',', low_memory=False)"
   ]
  },
  {
   "cell_type": "code",
   "execution_count": 50,
   "metadata": {
    "ExecuteTime": {
     "end_time": "2018-08-04T17:58:31.886237Z",
     "start_time": "2018-08-04T17:58:31.871369Z"
    }
   },
   "outputs": [],
   "source": [
    "with open('insert_is_bird.pkl', 'rb') as picklefile:\n",
    "    bird_or_not = pkl.load(picklefile)"
   ]
  },
  {
   "cell_type": "markdown",
   "metadata": {},
   "source": [
    "### Merge bird_strike and bird_or_not to add 'is_bird' column into bird_strike (main df)"
   ]
  },
  {
   "cell_type": "code",
   "execution_count": 51,
   "metadata": {
    "ExecuteTime": {
     "end_time": "2018-08-04T17:58:33.548586Z",
     "start_time": "2018-08-04T17:58:32.837746Z"
    }
   },
   "outputs": [],
   "source": [
    "df = pd.merge(bird_strike, bird_or_not, on='Species Name')"
   ]
  },
  {
   "cell_type": "markdown",
   "metadata": {},
   "source": [
    "### Categorize all 'unknown' as 'Bird' in is_bird column"
   ]
  },
  {
   "cell_type": "code",
   "execution_count": 52,
   "metadata": {
    "ExecuteTime": {
     "end_time": "2018-08-04T17:58:34.535780Z",
     "start_time": "2018-08-04T17:58:34.526233Z"
    }
   },
   "outputs": [
    {
     "data": {
      "text/plain": [
       "(174104, 67)"
      ]
     },
     "execution_count": 52,
     "metadata": {},
     "output_type": "execute_result"
    }
   ],
   "source": [
    "# Original shape\n",
    "df.shape"
   ]
  },
  {
   "cell_type": "code",
   "execution_count": 53,
   "metadata": {
    "ExecuteTime": {
     "end_time": "2018-08-04T17:58:35.836082Z",
     "start_time": "2018-08-04T17:58:35.441781Z"
    }
   },
   "outputs": [
    {
     "data": {
      "text/plain": [
       "UNKNOWN MEDIUM BIRD           38531\n",
       "UNKNOWN SMALL BIRD            32981\n",
       "UNKNOWN BIRD                   6400\n",
       "UNKNOWN LARGE BIRD             2789\n",
       "UNKNOWN BIRD OR BAT              70\n",
       "UNKNOWN TERRESTRIAL MAMMAL       25\n",
       "Name: Species Name, dtype: int64"
      ]
     },
     "execution_count": 53,
     "metadata": {},
     "output_type": "execute_result"
    }
   ],
   "source": [
    "# only want 'UNKNOWN SMALL BIRD', 'UNKNOWN MEDIUM BIRD', 'UNKNOWN LARGE BIRD'\n",
    "df[df['is_bird'] == 'unknown']['Species Name'].value_counts()"
   ]
  },
  {
   "cell_type": "code",
   "execution_count": 54,
   "metadata": {
    "ExecuteTime": {
     "end_time": "2018-08-04T17:58:37.032367Z",
     "start_time": "2018-08-04T17:58:36.776726Z"
    }
   },
   "outputs": [],
   "source": [
    "# only want 'UNKNOWN SMALL BIRD', 'UNKNOWN MEDIUM BIRD', 'UNKNOWN LARGE BIRD'\n",
    "df = df[df['Species Name'] != 'UNKNOWN TERRESTRIAL MAMMAL']\n",
    "df = df[df['Species Name'] != 'UNKNOWN BIRD OR BAT']\n",
    "df = df[df['Species Name'] != 'UNKNOWN BIRD']\n"
   ]
  },
  {
   "cell_type": "code",
   "execution_count": 55,
   "metadata": {
    "ExecuteTime": {
     "end_time": "2018-08-04T17:58:37.979663Z",
     "start_time": "2018-08-04T17:58:37.972812Z"
    }
   },
   "outputs": [
    {
     "data": {
      "text/plain": [
       "(167609, 67)"
      ]
     },
     "execution_count": 55,
     "metadata": {},
     "output_type": "execute_result"
    }
   ],
   "source": [
    "# After subsetting Dataframe shape\n",
    "# (174104 - 25 - 70 - 6400) rows = 167609 rows\n",
    "df.shape"
   ]
  },
  {
   "cell_type": "code",
   "execution_count": 56,
   "metadata": {
    "ExecuteTime": {
     "end_time": "2018-08-04T17:58:38.917920Z",
     "start_time": "2018-08-04T17:58:38.909743Z"
    }
   },
   "outputs": [],
   "source": [
    "df.reset_index(inplace=True)"
   ]
  },
  {
   "cell_type": "markdown",
   "metadata": {},
   "source": [
    "We only care about subsetting 'birds' out. So below is a list of is_bird categories that we may want to change to 'Bird':"
   ]
  },
  {
   "cell_type": "code",
   "execution_count": 57,
   "metadata": {
    "ExecuteTime": {
     "end_time": "2018-08-04T17:58:39.850918Z",
     "start_time": "2018-08-04T17:58:39.814791Z"
    }
   },
   "outputs": [
    {
     "data": {
      "text/plain": [
       "Bird                     82173\n",
       "unknown                  74301\n",
       "Animal                    4817\n",
       "None                      2674\n",
       "Clothing company          1574\n",
       "Toiletries                1041\n",
       "multiple                   316\n",
       "Rodent                     249\n",
       "Reptile                    200\n",
       "Television programme        95\n",
       "none                        80\n",
       "Fictional character         47\n",
       "Baseball team                8\n",
       "Football franchise           8\n",
       "Snakes                       7\n",
       "Software                     7\n",
       "Basketball team              5\n",
       "Rock band                    2\n",
       "Company                      2\n",
       "Manufacturing company        1\n",
       "Chess                        1\n",
       "Football team                1\n",
       "Name: is_bird, dtype: int64"
      ]
     },
     "execution_count": 57,
     "metadata": {},
     "output_type": "execute_result"
    }
   ],
   "source": [
    "df['is_bird'].value_counts()"
   ]
  },
  {
   "cell_type": "code",
   "execution_count": 58,
   "metadata": {
    "ExecuteTime": {
     "end_time": "2018-08-04T17:58:40.795135Z",
     "start_time": "2018-08-04T17:58:40.726462Z"
    }
   },
   "outputs": [
    {
     "data": {
      "text/plain": [
       "array(['BLACKBIRD', 'CHIMNEY SWIFT', 'OLD WORLD VULTURES',\n",
       "       'NORTHERN HARRIER', 'YELLOW-BILLED CUCKOO', 'FOX SPARROW',\n",
       "       'EASTERN TOWHEE', 'MONK PARAKEET', 'BOBOLINK', 'CHICKEN TURTLE',\n",
       "       'ISLAND TURTLE-DOVE', 'WHITE-THROATED SWIFT', 'SWINE (PIGS)',\n",
       "       'COMMON POORWILL', 'GREEN-TAILED TOWHEE', \"VAUX'S SWIFT\",\n",
       "       'LARK SPARROW', 'SAGE THRASHER', 'NORTH AMERICAN PORCUPINE',\n",
       "       'VESPER SPARROW', 'DIAMONDBACK TERRAPIN', 'REDHEAD',\n",
       "       'HAIRY WOODPECKER', 'SILVER-HAIRED BAT', \"HARRIS'S HAWK\",\n",
       "       'FORK-TAILED STORM-PETREL', 'WRENTIT', 'SKUNK',\n",
       "       'SWALLOW-TAILED KITE', 'PERCHING BIRDS (Z)',\n",
       "       'PROTHONOTARY WARBLER', 'ISLAND CANARY', 'BLACK-BILLED CUCKOO',\n",
       "       'TENNESSEE WARBLER', 'NORTHERN HAWK-OWL',\n",
       "       'ALLIGATOR SNAPPING TURTLE', 'FLORIDA BONNETED BAT',\n",
       "       'BAND-RUMPED STORM-PETREL', 'NORTHERN WATER SNAKE',\n",
       "       'SPOTTED TOWHEE', 'PHILIPPINE DRONGO-CUCKOO'], dtype=object)"
      ]
     },
     "execution_count": 58,
     "metadata": {},
     "output_type": "execute_result"
    }
   ],
   "source": [
    "df[df['is_bird'] == 'None']['Species Name'].unique()"
   ]
  },
  {
   "cell_type": "code",
   "execution_count": 59,
   "metadata": {
    "ExecuteTime": {
     "end_time": "2018-08-04T17:58:41.701573Z",
     "start_time": "2018-08-04T17:58:41.689522Z"
    }
   },
   "outputs": [],
   "source": [
    "for_sure_birds_to_change = ['UNKNOWN SMALL BIRD', 'UNKNOWN MEDIUM BIRD', 'UNKNOWN LARGE BIRD',\n",
    "                            'BLACKBIRD','CHIMNEY SWIFT','OLD WORLD VULTURES','NORTHERN HARRIER',\n",
    "                            'WILD TURKEY','YELLOW-BILLED CUCKOO','FOX SPARROW','EASTERN TOWHEE','MONK PARAKEET',\n",
    "                            'BOBOLINK','ISLAND TURTLE-DOVE','WHITE-THROATED SWIFT', 'COMMON POORWILL',\n",
    "                            'GREEN-TAILED TOWHEE',\"VAUX'S SWIFT\", 'LARK SPARROW', 'SAGE THRASHER', 'VESPER SPARROW', \n",
    "                            'REDHEAD','HAIRY WOODPECKER', \"HARRIS'S HAWK\",'FORK-TAILED STORM-PETREL', 'WRENTIT',\n",
    "                            'SWALLOW-TAILED KITE', 'PERCHING BIRDS (Z)','PROTHONOTARY WARBLER', 'ISLAND CANARY',\n",
    "                            'BLACK-BILLED CUCKOO','TENNESSEE WARBLER','NORTHERN HAWK-OWL','BAND-RUMPED STORM-PETREL', \n",
    "                            'SPOTTED TOWHEE','PHILIPPINE DRONGO-CUCKOO']"
   ]
  },
  {
   "cell_type": "code",
   "execution_count": 60,
   "metadata": {
    "ExecuteTime": {
     "end_time": "2018-08-04T17:58:42.629083Z",
     "start_time": "2018-08-04T17:58:42.595774Z"
    }
   },
   "outputs": [],
   "source": [
    "def bird_categorize_None(x):\n",
    "    if x in for_sure_birds_to_change:\n",
    "        return 'Bird'\n",
    "    else:\n",
    "        return 'Not Bird'\n",
    "\n",
    "is_bird_None = df[df['is_bird'] == 'None']\n",
    "categorize_None_bird = [bird_categorize_None(x) for x in is_bird_None['Species Name']]"
   ]
  },
  {
   "cell_type": "code",
   "execution_count": 61,
   "metadata": {
    "ExecuteTime": {
     "end_time": "2018-08-04T17:58:43.844334Z",
     "start_time": "2018-08-04T17:58:43.498954Z"
    }
   },
   "outputs": [],
   "source": [
    "df['is_bird'][is_bird_None.index] = is_bird_None['is_bird']"
   ]
  },
  {
   "cell_type": "code",
   "execution_count": 62,
   "metadata": {
    "ExecuteTime": {
     "end_time": "2018-08-04T17:58:44.733652Z",
     "start_time": "2018-08-04T17:58:44.662474Z"
    }
   },
   "outputs": [
    {
     "data": {
      "text/plain": [
       "array(['UNKNOWN MEDIUM BIRD', 'UNKNOWN LARGE BIRD', 'UNKNOWN SMALL BIRD'],\n",
       "      dtype=object)"
      ]
     },
     "execution_count": 62,
     "metadata": {},
     "output_type": "execute_result"
    }
   ],
   "source": [
    "# All UNKNOWN's are birds\n",
    "df[df['is_bird'] == 'unknown']['Species Name'].unique()"
   ]
  },
  {
   "cell_type": "code",
   "execution_count": 63,
   "metadata": {
    "ExecuteTime": {
     "end_time": "2018-08-04T17:58:45.634680Z",
     "start_time": "2018-08-04T17:58:45.548247Z"
    }
   },
   "outputs": [],
   "source": [
    "def unknown_to_bird(x):\n",
    "    if x == 'unknown':\n",
    "        return 'Bird'\n",
    "    else:\n",
    "        return x\n",
    "\n",
    "is_bird_unknown = [unknown_to_bird(x) for x in df['is_bird']]\n",
    "df['is_bird'] = is_bird_unknown"
   ]
  },
  {
   "cell_type": "code",
   "execution_count": null,
   "metadata": {},
   "outputs": [],
   "source": []
  },
  {
   "cell_type": "code",
   "execution_count": 64,
   "metadata": {
    "ExecuteTime": {
     "end_time": "2018-08-04T17:58:46.496547Z",
     "start_time": "2018-08-04T17:58:46.466564Z"
    }
   },
   "outputs": [
    {
     "data": {
      "text/plain": [
       "array(['DUCKS, GEESE, SWANS', 'THRASHERS, MOCKINGBIRDS, CATBIRDS',\n",
       "       'HERONS, EGRETS, BITTERNS', 'GULLS,TERNS, KITTIWAKES',\n",
       "       'CROWS, RAVENS, JAYS,MAGPIES',\n",
       "       'RAPTORS: HAWKS, EAGLES, VULTURES, KITES, OSPREY, F',\n",
       "       'BLACKBIRDS, MEADOWLARKS, ORIOLES', 'PIGEONS, DOVES',\n",
       "       'WOODPECKERS, PICULETS', 'PLOVERS, LAPWINGS',\n",
       "       'SCOPS, SCREECH OWLS', 'CUCKOOS, ROADRUNNERS, ANIS',\n",
       "       'KITES, EAGLES, HAWKS', 'LAGOMORPHS (RABBITS, HARES)',\n",
       "       'WAXBILLS, MANNIKINS, PARROTFINCHES', 'CROWS, RAVENS'],\n",
       "      dtype=object)"
      ]
     },
     "execution_count": 64,
     "metadata": {},
     "output_type": "execute_result"
    }
   ],
   "source": [
    "df[df['is_bird'] =='multiple']['Species Name'].unique()"
   ]
  },
  {
   "cell_type": "code",
   "execution_count": 65,
   "metadata": {
    "ExecuteTime": {
     "end_time": "2018-08-04T17:58:47.375555Z",
     "start_time": "2018-08-04T17:58:47.326465Z"
    }
   },
   "outputs": [],
   "source": [
    "def multiple_to_bird(m):\n",
    "    if m == 'multiple':\n",
    "        return 'Bird'\n",
    "    else:\n",
    "        return m\n",
    "\n",
    "is_bird_multiple = [multiple_to_bird(m) for m in df['is_bird']]\n",
    "df['is_bird'] = is_bird_multiple"
   ]
  },
  {
   "cell_type": "code",
   "execution_count": 66,
   "metadata": {
    "ExecuteTime": {
     "end_time": "2018-08-04T17:58:48.291764Z",
     "start_time": "2018-08-04T17:58:48.204734Z"
    }
   },
   "outputs": [
    {
     "name": "stderr",
     "output_type": "stream",
     "text": [
      "/anaconda3/lib/python3.6/site-packages/ipykernel_launcher.py:1: SettingWithCopyWarning: \n",
      "A value is trying to be set on a copy of a slice from a DataFrame\n",
      "\n",
      "See the caveats in the documentation: http://pandas.pydata.org/pandas-docs/stable/indexing.html#indexing-view-versus-copy\n",
      "  \"\"\"Entry point for launching an IPython kernel.\n"
     ]
    },
    {
     "data": {
      "text/html": [
       "<div>\n",
       "<style scoped>\n",
       "    .dataframe tbody tr th:only-of-type {\n",
       "        vertical-align: middle;\n",
       "    }\n",
       "\n",
       "    .dataframe tbody tr th {\n",
       "        vertical-align: top;\n",
       "    }\n",
       "\n",
       "    .dataframe thead th {\n",
       "        text-align: right;\n",
       "    }\n",
       "</style>\n",
       "<table border=\"1\" class=\"dataframe\">\n",
       "  <thead>\n",
       "    <tr style=\"text-align: right;\">\n",
       "      <th></th>\n",
       "      <th>index</th>\n",
       "      <th>Record ID</th>\n",
       "      <th>Incident Year</th>\n",
       "      <th>Incident Month</th>\n",
       "      <th>Incident Day</th>\n",
       "      <th>Operator ID</th>\n",
       "      <th>Operator</th>\n",
       "      <th>Aircraft</th>\n",
       "      <th>Aircraft Type</th>\n",
       "      <th>Aircraft Make</th>\n",
       "      <th>...</th>\n",
       "      <th>Fuselage Damage</th>\n",
       "      <th>Landing Gear Strike</th>\n",
       "      <th>Landing Gear Damage</th>\n",
       "      <th>Tail Strike</th>\n",
       "      <th>Tail Damage</th>\n",
       "      <th>Lights Strike</th>\n",
       "      <th>Lights Damage</th>\n",
       "      <th>Other Strike</th>\n",
       "      <th>Other Damage</th>\n",
       "      <th>is_bird</th>\n",
       "    </tr>\n",
       "  </thead>\n",
       "  <tbody>\n",
       "    <tr>\n",
       "      <th>166845</th>\n",
       "      <td>173340</td>\n",
       "      <td>258786</td>\n",
       "      <td>2008</td>\n",
       "      <td>7</td>\n",
       "      <td>1</td>\n",
       "      <td>BUS</td>\n",
       "      <td>BUSINESS</td>\n",
       "      <td>PA-31 NAVAJO</td>\n",
       "      <td>A</td>\n",
       "      <td>729</td>\n",
       "      <td>...</td>\n",
       "      <td>0</td>\n",
       "      <td>0</td>\n",
       "      <td>0</td>\n",
       "      <td>0</td>\n",
       "      <td>0</td>\n",
       "      <td>0</td>\n",
       "      <td>0</td>\n",
       "      <td>0</td>\n",
       "      <td>0</td>\n",
       "      <td>Animal</td>\n",
       "    </tr>\n",
       "  </tbody>\n",
       "</table>\n",
       "<p>1 rows × 68 columns</p>\n",
       "</div>"
      ],
      "text/plain": [
       "         index  Record ID  Incident Year  Incident Month  Incident Day  \\\n",
       "166845  173340     258786           2008               7             1   \n",
       "\n",
       "       Operator ID  Operator      Aircraft Aircraft Type Aircraft Make  \\\n",
       "166845         BUS  BUSINESS  PA-31 NAVAJO             A           729   \n",
       "\n",
       "         ...    Fuselage Damage  Landing Gear Strike  Landing Gear Damage  \\\n",
       "166845   ...                  0                    0                    0   \n",
       "\n",
       "       Tail Strike  Tail Damage Lights Strike Lights Damage  Other Strike  \\\n",
       "166845           0            0             0             0             0   \n",
       "\n",
       "       Other Damage  is_bird  \n",
       "166845            0   Animal  \n",
       "\n",
       "[1 rows x 68 columns]"
      ]
     },
     "execution_count": 66,
     "metadata": {},
     "output_type": "execute_result"
    }
   ],
   "source": [
    "df['is_bird'][166845] = 'Animal'\n",
    "df[df['Species Name'] == 'LAGOMORPHS (RABBITS, HARES)']"
   ]
  },
  {
   "cell_type": "code",
   "execution_count": null,
   "metadata": {},
   "outputs": [],
   "source": []
  },
  {
   "cell_type": "code",
   "execution_count": 67,
   "metadata": {
    "ExecuteTime": {
     "end_time": "2018-08-04T17:58:49.210552Z",
     "start_time": "2018-08-04T17:58:49.171345Z"
    },
    "scrolled": true
   },
   "outputs": [
    {
     "data": {
      "text/plain": [
       "Bird                     156789\n",
       "Animal                     4818\n",
       "None                       2674\n",
       "Clothing company           1574\n",
       "Toiletries                 1041\n",
       "Rodent                      249\n",
       "Reptile                     200\n",
       "Television programme         95\n",
       "none                         80\n",
       "Fictional character          47\n",
       "Baseball team                 8\n",
       "Football franchise            8\n",
       "Snakes                        7\n",
       "Software                      7\n",
       "Basketball team               5\n",
       "Rock band                     2\n",
       "Company                       2\n",
       "Manufacturing company         1\n",
       "Chess                         1\n",
       "Football team                 1\n",
       "Name: is_bird, dtype: int64"
      ]
     },
     "execution_count": 67,
     "metadata": {},
     "output_type": "execute_result"
    }
   ],
   "source": [
    "df['is_bird'].value_counts()"
   ]
  },
  {
   "cell_type": "code",
   "execution_count": 68,
   "metadata": {
    "ExecuteTime": {
     "end_time": "2018-08-04T17:58:50.073136Z",
     "start_time": "2018-08-04T17:58:50.067661Z"
    }
   },
   "outputs": [],
   "source": [
    "## Remaining List\n",
    "# 'Television programme', 'Clothing company','Toiletries', 'Baseball team', 'Fictional character',\n",
    "# 'Software', 'Company', 'Basketball team','Rock band', 'Football franchise','Manufacturing company', \n",
    "# 'Chess','Football team'"
   ]
  },
  {
   "cell_type": "code",
   "execution_count": 69,
   "metadata": {
    "ExecuteTime": {
     "end_time": "2018-08-04T17:58:50.926520Z",
     "start_time": "2018-08-04T17:58:50.902256Z"
    }
   },
   "outputs": [
    {
     "data": {
      "text/plain": [
       "array(['RAVENS'], dtype=object)"
      ]
     },
     "execution_count": 69,
     "metadata": {},
     "output_type": "execute_result"
    }
   ],
   "source": [
    "df[df['is_bird'] == 'Football team']['Species Name'].unique()"
   ]
  },
  {
   "cell_type": "code",
   "execution_count": 70,
   "metadata": {
    "ExecuteTime": {
     "end_time": "2018-08-04T17:58:51.742147Z",
     "start_time": "2018-08-04T17:58:51.733787Z"
    }
   },
   "outputs": [],
   "source": [
    "#bird_or_not[bird_or_not['is_bird'] == 'Television programme']['Species Name'].unique() # all Merlin birds\n",
    "#bird_or_not[bird_or_not['is_bird'] == 'Clothing company']['Species Name'].unique() # all Canada Goose (birds)\n",
    "#bird_or_not[bird_or_not['is_bird'] == 'Toiletries']['Species Name'].unique() # all Dove (birds)\n",
    "#bird_or_not[bird_or_not['is_bird'] == 'Baseball team']['Species Name'].unique() # all Orioles (birds)\n",
    "#bird_or_not[bird_or_not['is_bird'] == 'Fictional character']['Species Name'].unique() # all Sora (birds)\n",
    "#bird_or_not[bird_or_not['is_bird'] == 'Software']['Species Name'].unique() # all Rails (birds)\n",
    "#bird_or_not[bird_or_not['is_bird'] == 'Basketball team']['Species Name'].unique() # Pelicans (birds)\n",
    "#bird_or_not[bird_or_not['is_bird'] == 'Rock band']['Species Name'].unique() # Swans (birds)\n",
    "#bird_or_not[bird_or_not['is_bird'] == 'Football franchise']['Species Name'].unique() # Eagles (birds)\n",
    "#bird_or_not[bird_or_not['is_bird'] == 'Manufacturing company']['Species Name'].unique() # Redwing (birds)\n",
    "#bird_or_not[bird_or_not['is_bird'] == 'Football team']['Species Name'].unique() # Ravens (birds)\n",
    "#bird_or_not[bird_or_not['is_bird'] == 'Chess']['Species Name'].unique() # Rook (birds)"
   ]
  },
  {
   "cell_type": "code",
   "execution_count": 71,
   "metadata": {
    "ExecuteTime": {
     "end_time": "2018-08-04T17:58:52.630356Z",
     "start_time": "2018-08-04T17:58:52.547033Z"
    }
   },
   "outputs": [],
   "source": [
    "remain_birds = ['Television programme', 'Clothing company','Toiletries', 'Baseball team',\n",
    "                'Fictional character', 'Software', 'Basketball team', 'Chess',\n",
    "                'Rock band', 'Football franchise','Manufacturing company','Football team']\n",
    "\n",
    "def remain_to_bird(r):\n",
    "    if r in remain_birds:\n",
    "        return 'Bird'\n",
    "    else:\n",
    "        return r\n",
    "\n",
    "is_bird_remain = [remain_to_bird(r) for r in df['is_bird']]\n",
    "df['is_bird'] = is_bird_remain\n"
   ]
  },
  {
   "cell_type": "code",
   "execution_count": 72,
   "metadata": {
    "ExecuteTime": {
     "end_time": "2018-08-04T17:58:53.461674Z",
     "start_time": "2018-08-04T17:58:53.426914Z"
    },
    "scrolled": true
   },
   "outputs": [
    {
     "data": {
      "text/plain": [
       "Bird       159579\n",
       "Animal       4818\n",
       "None         2674\n",
       "Rodent        249\n",
       "Reptile       200\n",
       "none           80\n",
       "Snakes          7\n",
       "Company         2\n",
       "Name: is_bird, dtype: int64"
      ]
     },
     "execution_count": 72,
     "metadata": {},
     "output_type": "execute_result"
    }
   ],
   "source": [
    "# Sanity check\n",
    "df['is_bird'].value_counts()"
   ]
  },
  {
   "cell_type": "code",
   "execution_count": 73,
   "metadata": {
    "ExecuteTime": {
     "end_time": "2018-08-04T17:58:54.458775Z",
     "start_time": "2018-08-04T17:58:54.314171Z"
    }
   },
   "outputs": [
    {
     "data": {
      "text/plain": [
       "Bird       159579\n",
       "Animal       4818\n",
       "None         2674\n",
       "Rodent        249\n",
       "Reptile       200\n",
       "Snakes          7\n",
       "Company         2\n",
       "Name: is_bird, dtype: int64"
      ]
     },
     "execution_count": 73,
     "metadata": {},
     "output_type": "execute_result"
    }
   ],
   "source": [
    "df_filled = df[df['is_bird'] != 'none']\n",
    "df_filled['is_bird'].value_counts()"
   ]
  },
  {
   "cell_type": "code",
   "execution_count": 74,
   "metadata": {
    "ExecuteTime": {
     "end_time": "2018-08-04T17:58:55.359778Z",
     "start_time": "2018-08-04T17:58:55.354380Z"
    }
   },
   "outputs": [],
   "source": [
    "def is_bird(b):\n",
    "    if b == 'Bird':\n",
    "        return 1\n",
    "    else:\n",
    "        return 0"
   ]
  },
  {
   "cell_type": "code",
   "execution_count": 75,
   "metadata": {
    "ExecuteTime": {
     "end_time": "2018-08-04T17:58:56.545251Z",
     "start_time": "2018-08-04T17:58:56.226305Z"
    }
   },
   "outputs": [
    {
     "name": "stderr",
     "output_type": "stream",
     "text": [
      "/anaconda3/lib/python3.6/site-packages/ipykernel_launcher.py:2: SettingWithCopyWarning: \n",
      "A value is trying to be set on a copy of a slice from a DataFrame.\n",
      "Try using .loc[row_indexer,col_indexer] = value instead\n",
      "\n",
      "See the caveats in the documentation: http://pandas.pydata.org/pandas-docs/stable/indexing.html#indexing-view-versus-copy\n",
      "  \n"
     ]
    }
   ],
   "source": [
    "is_it_bird = [is_bird(b) for b in df_filled['is_bird']]\n",
    "df_filled['is_bird'] = is_it_bird"
   ]
  },
  {
   "cell_type": "code",
   "execution_count": 76,
   "metadata": {
    "ExecuteTime": {
     "end_time": "2018-08-04T17:58:57.459854Z",
     "start_time": "2018-08-04T17:58:57.446326Z"
    }
   },
   "outputs": [
    {
     "data": {
      "text/plain": [
       "1    159579\n",
       "0      7950\n",
       "Name: is_bird, dtype: int64"
      ]
     },
     "execution_count": 76,
     "metadata": {},
     "output_type": "execute_result"
    }
   ],
   "source": [
    "df_filled['is_bird'].value_counts()"
   ]
  },
  {
   "cell_type": "markdown",
   "metadata": {},
   "source": [
    "### Unstack all cells with multiple Species Names into individual rows"
   ]
  },
  {
   "cell_type": "code",
   "execution_count": 77,
   "metadata": {
    "ExecuteTime": {
     "end_time": "2018-08-04T17:58:59.828269Z",
     "start_time": "2018-08-04T17:58:58.451735Z"
    }
   },
   "outputs": [],
   "source": [
    "b = df_filled['Species Name'].str.split(',', expand=True).stack()\n",
    "j = b.index.get_level_values(0)\n",
    "df_complete = df_filled.loc[j].copy().reset_index()\n",
    "df_complete['Species Name'] = b.values"
   ]
  },
  {
   "cell_type": "code",
   "execution_count": 78,
   "metadata": {
    "ExecuteTime": {
     "end_time": "2018-08-04T17:59:00.846159Z",
     "start_time": "2018-08-04T17:59:00.695457Z"
    }
   },
   "outputs": [
    {
     "data": {
      "text/html": [
       "<div>\n",
       "<style scoped>\n",
       "    .dataframe tbody tr th:only-of-type {\n",
       "        vertical-align: middle;\n",
       "    }\n",
       "\n",
       "    .dataframe tbody tr th {\n",
       "        vertical-align: top;\n",
       "    }\n",
       "\n",
       "    .dataframe thead th {\n",
       "        text-align: right;\n",
       "    }\n",
       "</style>\n",
       "<table border=\"1\" class=\"dataframe\">\n",
       "  <thead>\n",
       "    <tr style=\"text-align: right;\">\n",
       "      <th></th>\n",
       "      <th>Record ID</th>\n",
       "      <th>Incident Year</th>\n",
       "      <th>Incident Month</th>\n",
       "      <th>Incident Day</th>\n",
       "      <th>Operator ID</th>\n",
       "      <th>Operator</th>\n",
       "      <th>Aircraft</th>\n",
       "      <th>Aircraft Type</th>\n",
       "      <th>Aircraft Make</th>\n",
       "      <th>Aircraft Model</th>\n",
       "      <th>...</th>\n",
       "      <th>Fuselage Damage</th>\n",
       "      <th>Landing Gear Strike</th>\n",
       "      <th>Landing Gear Damage</th>\n",
       "      <th>Tail Strike</th>\n",
       "      <th>Tail Damage</th>\n",
       "      <th>Lights Strike</th>\n",
       "      <th>Lights Damage</th>\n",
       "      <th>Other Strike</th>\n",
       "      <th>Other Damage</th>\n",
       "      <th>is_bird</th>\n",
       "    </tr>\n",
       "  </thead>\n",
       "  <tbody>\n",
       "    <tr>\n",
       "      <th>0</th>\n",
       "      <td>127128</td>\n",
       "      <td>1990</td>\n",
       "      <td>1</td>\n",
       "      <td>1</td>\n",
       "      <td>DAL</td>\n",
       "      <td>DELTA AIR LINES</td>\n",
       "      <td>B-757-200</td>\n",
       "      <td>A</td>\n",
       "      <td>148</td>\n",
       "      <td>26</td>\n",
       "      <td>...</td>\n",
       "      <td>0</td>\n",
       "      <td>0</td>\n",
       "      <td>0</td>\n",
       "      <td>1</td>\n",
       "      <td>1</td>\n",
       "      <td>0</td>\n",
       "      <td>0</td>\n",
       "      <td>0</td>\n",
       "      <td>0</td>\n",
       "      <td>1</td>\n",
       "    </tr>\n",
       "    <tr>\n",
       "      <th>1</th>\n",
       "      <td>107155</td>\n",
       "      <td>1990</td>\n",
       "      <td>1</td>\n",
       "      <td>8</td>\n",
       "      <td>USA</td>\n",
       "      <td>1US AIRWAYS</td>\n",
       "      <td>B-737-200</td>\n",
       "      <td>A</td>\n",
       "      <td>148</td>\n",
       "      <td>13</td>\n",
       "      <td>...</td>\n",
       "      <td>0</td>\n",
       "      <td>0</td>\n",
       "      <td>0</td>\n",
       "      <td>0</td>\n",
       "      <td>0</td>\n",
       "      <td>0</td>\n",
       "      <td>0</td>\n",
       "      <td>0</td>\n",
       "      <td>0</td>\n",
       "      <td>1</td>\n",
       "    </tr>\n",
       "    <tr>\n",
       "      <th>2</th>\n",
       "      <td>100363</td>\n",
       "      <td>1990</td>\n",
       "      <td>2</td>\n",
       "      <td>22</td>\n",
       "      <td>NHK</td>\n",
       "      <td>FAA</td>\n",
       "      <td>CV-580</td>\n",
       "      <td>A</td>\n",
       "      <td>279</td>\n",
       "      <td>14</td>\n",
       "      <td>...</td>\n",
       "      <td>0</td>\n",
       "      <td>0</td>\n",
       "      <td>0</td>\n",
       "      <td>0</td>\n",
       "      <td>0</td>\n",
       "      <td>0</td>\n",
       "      <td>0</td>\n",
       "      <td>0</td>\n",
       "      <td>0</td>\n",
       "      <td>1</td>\n",
       "    </tr>\n",
       "    <tr>\n",
       "      <th>3</th>\n",
       "      <td>100098</td>\n",
       "      <td>1990</td>\n",
       "      <td>3</td>\n",
       "      <td>3</td>\n",
       "      <td>SWA</td>\n",
       "      <td>SOUTHWEST AIRLINES</td>\n",
       "      <td>B-737-200</td>\n",
       "      <td>A</td>\n",
       "      <td>148</td>\n",
       "      <td>13</td>\n",
       "      <td>...</td>\n",
       "      <td>0</td>\n",
       "      <td>0</td>\n",
       "      <td>0</td>\n",
       "      <td>0</td>\n",
       "      <td>0</td>\n",
       "      <td>0</td>\n",
       "      <td>0</td>\n",
       "      <td>0</td>\n",
       "      <td>0</td>\n",
       "      <td>1</td>\n",
       "    </tr>\n",
       "    <tr>\n",
       "      <th>4</th>\n",
       "      <td>102449</td>\n",
       "      <td>1990</td>\n",
       "      <td>3</td>\n",
       "      <td>18</td>\n",
       "      <td>ANA</td>\n",
       "      <td>ALL NIPPON AIRWAYS</td>\n",
       "      <td>B-747</td>\n",
       "      <td>A</td>\n",
       "      <td>148</td>\n",
       "      <td>96</td>\n",
       "      <td>...</td>\n",
       "      <td>0</td>\n",
       "      <td>0</td>\n",
       "      <td>0</td>\n",
       "      <td>0</td>\n",
       "      <td>0</td>\n",
       "      <td>0</td>\n",
       "      <td>0</td>\n",
       "      <td>0</td>\n",
       "      <td>0</td>\n",
       "      <td>1</td>\n",
       "    </tr>\n",
       "  </tbody>\n",
       "</table>\n",
       "<p>5 rows × 67 columns</p>\n",
       "</div>"
      ],
      "text/plain": [
       "   Record ID  Incident Year  Incident Month  Incident Day Operator ID  \\\n",
       "0     127128           1990               1             1         DAL   \n",
       "1     107155           1990               1             8         USA   \n",
       "2     100363           1990               2            22         NHK   \n",
       "3     100098           1990               3             3         SWA   \n",
       "4     102449           1990               3            18         ANA   \n",
       "\n",
       "             Operator   Aircraft Aircraft Type Aircraft Make Aircraft Model  \\\n",
       "0     DELTA AIR LINES  B-757-200             A           148             26   \n",
       "1         1US AIRWAYS  B-737-200             A           148             13   \n",
       "2                 FAA     CV-580             A           279             14   \n",
       "3  SOUTHWEST AIRLINES  B-737-200             A           148             13   \n",
       "4  ALL NIPPON AIRWAYS      B-747             A           148             96   \n",
       "\n",
       "    ...    Fuselage Damage  Landing Gear Strike Landing Gear Damage  \\\n",
       "0   ...                  0                    0                   0   \n",
       "1   ...                  0                    0                   0   \n",
       "2   ...                  0                    0                   0   \n",
       "3   ...                  0                    0                   0   \n",
       "4   ...                  0                    0                   0   \n",
       "\n",
       "   Tail Strike Tail Damage Lights Strike  Lights Damage Other Strike  \\\n",
       "0            1           1             0              0            0   \n",
       "1            0           0             0              0            0   \n",
       "2            0           0             0              0            0   \n",
       "3            0           0             0              0            0   \n",
       "4            0           0             0              0            0   \n",
       "\n",
       "   Other Damage is_bird  \n",
       "0             0       1  \n",
       "1             0       1  \n",
       "2             0       1  \n",
       "3             0       1  \n",
       "4             0       1  \n",
       "\n",
       "[5 rows x 67 columns]"
      ]
     },
     "execution_count": 78,
     "metadata": {},
     "output_type": "execute_result"
    }
   ],
   "source": [
    "df_complete.drop(columns=['level_0', 'index'], inplace=True)\n",
    "df_complete.head()"
   ]
  },
  {
   "cell_type": "code",
   "execution_count": 79,
   "metadata": {
    "ExecuteTime": {
     "end_time": "2018-08-04T17:59:02.104710Z",
     "start_time": "2018-08-04T17:59:01.721707Z"
    }
   },
   "outputs": [],
   "source": [
    "with open('bird_df_clean.pkl', 'wb') as picklefile:\n",
    "    pkl.dump(df_complete, picklefile)"
   ]
  },
  {
   "cell_type": "markdown",
   "metadata": {},
   "source": [
    "### Clean Bird Sizes"
   ]
  },
  {
   "cell_type": "code",
   "execution_count": 230,
   "metadata": {
    "ExecuteTime": {
     "end_time": "2018-08-05T07:23:21.113595Z",
     "start_time": "2018-08-05T07:23:20.787809Z"
    }
   },
   "outputs": [],
   "source": [
    "with open('bird_sizes_df.pkl', 'rb') as picklefile:\n",
    "    size_df = pkl.load(picklefile)\n",
    "\n",
    "with open('bird_df_clean.pkl', 'rb') as file:\n",
    "    clean_df = pkl.load(file)"
   ]
  },
  {
   "cell_type": "code",
   "execution_count": 231,
   "metadata": {
    "ExecuteTime": {
     "end_time": "2018-08-05T07:23:22.658815Z",
     "start_time": "2018-08-05T07:23:22.644554Z"
    }
   },
   "outputs": [
    {
     "data": {
      "text/html": [
       "<div>\n",
       "<style scoped>\n",
       "    .dataframe tbody tr th:only-of-type {\n",
       "        vertical-align: middle;\n",
       "    }\n",
       "\n",
       "    .dataframe tbody tr th {\n",
       "        vertical-align: top;\n",
       "    }\n",
       "\n",
       "    .dataframe thead th {\n",
       "        text-align: right;\n",
       "    }\n",
       "</style>\n",
       "<table border=\"1\" class=\"dataframe\">\n",
       "  <thead>\n",
       "    <tr style=\"text-align: right;\">\n",
       "      <th></th>\n",
       "      <th>Species Name</th>\n",
       "      <th>Species Size</th>\n",
       "      <th>Species Length</th>\n",
       "      <th>Species Weight</th>\n",
       "    </tr>\n",
       "  </thead>\n",
       "  <tbody>\n",
       "    <tr>\n",
       "      <th>0</th>\n",
       "      <td>GULL</td>\n",
       "      <td>Size: &lt;/span&gt;\\nLarge (16 - 32 in)\\n\\n</td>\n",
       "      <td>Length Range: &lt;/span&gt;\\n51 cm (20 in)\\n\\n</td>\n",
       "      <td>Weight: &lt;/span&gt;\\n567 g (20 oz)\\n\\n</td>\n",
       "    </tr>\n",
       "    <tr>\n",
       "      <th>1</th>\n",
       "      <td>HOUSE SPARROW</td>\n",
       "      <td>Size: &lt;/span&gt;\\nSmall (5 - 9 in)\\n\\n</td>\n",
       "      <td>Length Range: &lt;/span&gt;\\n14-17 cm (5.5-6.5 in)</td>\n",
       "      <td>Weight: &lt;/span&gt;\\n39 g (1.37 oz)\\n\\n</td>\n",
       "    </tr>\n",
       "    <tr>\n",
       "      <th>2</th>\n",
       "      <td>BARN OWL</td>\n",
       "      <td>Size: &lt;/span&gt;\\nLarge (16 - 32 in)\\n\\n</td>\n",
       "      <td>Length Range: &lt;/span&gt;\\n36-51 cm (14-20 in)\\n\\n</td>\n",
       "      <td>Weight: &lt;/span&gt;\\n510 g (18 oz)\\n\\n</td>\n",
       "    </tr>\n",
       "  </tbody>\n",
       "</table>\n",
       "</div>"
      ],
      "text/plain": [
       "    Species Name                                    Species Size  \\\n",
       "0           GULL  Size: </span>\\nLarge (16 - 32 in)\\n\\n            \n",
       "1  HOUSE SPARROW  Size: </span>\\nSmall (5 - 9 in)\\n\\n              \n",
       "2       BARN OWL  Size: </span>\\nLarge (16 - 32 in)\\n\\n            \n",
       "\n",
       "                                   Species Length  \\\n",
       "0  Length Range: </span>\\n51 cm (20 in)\\n\\n         \n",
       "1    Length Range: </span>\\n14-17 cm (5.5-6.5 in)   \n",
       "2  Length Range: </span>\\n36-51 cm (14-20 in)\\n\\n   \n",
       "\n",
       "                          Species Weight  \n",
       "0  Weight: </span>\\n567 g (20 oz)\\n\\n     \n",
       "1  Weight: </span>\\n39 g (1.37 oz)\\n\\n    \n",
       "2  Weight: </span>\\n510 g (18 oz)\\n\\n     "
      ]
     },
     "execution_count": 231,
     "metadata": {},
     "output_type": "execute_result"
    }
   ],
   "source": [
    "size_df.head(3)"
   ]
  },
  {
   "cell_type": "code",
   "execution_count": 232,
   "metadata": {
    "ExecuteTime": {
     "end_time": "2018-08-05T07:23:25.974853Z",
     "start_time": "2018-08-05T07:23:25.968194Z"
    }
   },
   "outputs": [
    {
     "data": {
      "text/plain": [
       "array(['Size: </span>\\nLarge (16 - 32 in)\\n\\n         ',\n",
       "       'Size: </span>\\nSmall (5 - 9 in)\\n\\n           ', 'None',\n",
       "       'Size: </span>\\nMedium (9 - 16 in)\\n\\n         ',\n",
       "       'Size: </span>\\nVery Large (32 - 72 in)\\n\\n    ', '',\n",
       "       'Size: </span>\\nVery Small (3 - 5 in)\\n\\n      '], dtype=object)"
      ]
     },
     "execution_count": 232,
     "metadata": {},
     "output_type": "execute_result"
    }
   ],
   "source": [
    "size_df['Species Size'].unique()"
   ]
  },
  {
   "cell_type": "code",
   "execution_count": 233,
   "metadata": {
    "ExecuteTime": {
     "end_time": "2018-08-05T07:23:28.130181Z",
     "start_time": "2018-08-05T07:23:28.125042Z"
    }
   },
   "outputs": [],
   "source": [
    "def define_size(s):\n",
    "    if 'Very Small' in s:\n",
    "        return 1\n",
    "    elif 'Small' in s:\n",
    "        return 2\n",
    "    elif 'Medium' in s:\n",
    "        return 3\n",
    "    elif 'Large' in s:\n",
    "        return 4\n",
    "    elif 'Very Large' in s:\n",
    "        return 5\n",
    "    elif '' in s:\n",
    "        return 'None'\n",
    "    else:\n",
    "        return 'None'"
   ]
  },
  {
   "cell_type": "code",
   "execution_count": 234,
   "metadata": {
    "ExecuteTime": {
     "end_time": "2018-08-05T07:23:32.302691Z",
     "start_time": "2018-08-05T07:23:32.297380Z"
    }
   },
   "outputs": [],
   "source": [
    "sp_size = [define_size(s) for s in size_df['Species Size']]\n",
    "size_df['Species Size'] = sp_size"
   ]
  },
  {
   "cell_type": "code",
   "execution_count": 235,
   "metadata": {
    "ExecuteTime": {
     "end_time": "2018-08-05T07:23:34.100286Z",
     "start_time": "2018-08-05T07:23:34.095007Z"
    }
   },
   "outputs": [],
   "source": [
    "size_df['Species Size'][38] = 2  # 'UNKNOWN SMALL BIRD' size\n",
    "size_df['Species Size'][3] = 3   # 'UNKNOWN MEDIUM BIRD' size\n",
    "size_df['Species Size'][21] = 4  # 'UNKNOWN LARGE BIRD' size"
   ]
  },
  {
   "cell_type": "code",
   "execution_count": 236,
   "metadata": {
    "ExecuteTime": {
     "end_time": "2018-08-05T07:23:37.018485Z",
     "start_time": "2018-08-05T07:23:37.008673Z"
    }
   },
   "outputs": [
    {
     "data": {
      "text/plain": [
       "array([4, 2, 3, 'None', 1], dtype=object)"
      ]
     },
     "execution_count": 236,
     "metadata": {},
     "output_type": "execute_result"
    }
   ],
   "source": [
    "just_size_df = size_df[['Species Name', 'Species Size']]\n",
    "just_size_df['Species Size'].unique()"
   ]
  },
  {
   "cell_type": "code",
   "execution_count": 193,
   "metadata": {
    "ExecuteTime": {
     "end_time": "2018-08-05T05:33:16.815831Z",
     "start_time": "2018-08-05T05:33:16.081742Z"
    }
   },
   "outputs": [
    {
     "data": {
      "text/html": [
       "<div>\n",
       "<style scoped>\n",
       "    .dataframe tbody tr th:only-of-type {\n",
       "        vertical-align: middle;\n",
       "    }\n",
       "\n",
       "    .dataframe tbody tr th {\n",
       "        vertical-align: top;\n",
       "    }\n",
       "\n",
       "    .dataframe thead th {\n",
       "        text-align: right;\n",
       "    }\n",
       "</style>\n",
       "<table border=\"1\" class=\"dataframe\">\n",
       "  <thead>\n",
       "    <tr style=\"text-align: right;\">\n",
       "      <th></th>\n",
       "      <th>Species Name</th>\n",
       "      <th>Species Size</th>\n",
       "      <th>Record ID</th>\n",
       "      <th>Incident Year</th>\n",
       "      <th>Incident Month</th>\n",
       "      <th>Incident Day</th>\n",
       "      <th>Operator ID</th>\n",
       "      <th>Operator</th>\n",
       "      <th>Aircraft</th>\n",
       "      <th>Aircraft Type</th>\n",
       "      <th>...</th>\n",
       "      <th>Fuselage Damage</th>\n",
       "      <th>Landing Gear Strike</th>\n",
       "      <th>Landing Gear Damage</th>\n",
       "      <th>Tail Strike</th>\n",
       "      <th>Tail Damage</th>\n",
       "      <th>Lights Strike</th>\n",
       "      <th>Lights Damage</th>\n",
       "      <th>Other Strike</th>\n",
       "      <th>Other Damage</th>\n",
       "      <th>is_bird</th>\n",
       "    </tr>\n",
       "  </thead>\n",
       "  <tbody>\n",
       "    <tr>\n",
       "      <th>0</th>\n",
       "      <td>GULL</td>\n",
       "      <td>4</td>\n",
       "      <td>127128</td>\n",
       "      <td>1990</td>\n",
       "      <td>1</td>\n",
       "      <td>1</td>\n",
       "      <td>DAL</td>\n",
       "      <td>DELTA AIR LINES</td>\n",
       "      <td>B-757-200</td>\n",
       "      <td>A</td>\n",
       "      <td>...</td>\n",
       "      <td>0</td>\n",
       "      <td>0</td>\n",
       "      <td>0</td>\n",
       "      <td>1</td>\n",
       "      <td>1</td>\n",
       "      <td>0</td>\n",
       "      <td>0</td>\n",
       "      <td>0</td>\n",
       "      <td>0</td>\n",
       "      <td>1</td>\n",
       "    </tr>\n",
       "    <tr>\n",
       "      <th>1</th>\n",
       "      <td>GULL</td>\n",
       "      <td>4</td>\n",
       "      <td>107155</td>\n",
       "      <td>1990</td>\n",
       "      <td>1</td>\n",
       "      <td>8</td>\n",
       "      <td>USA</td>\n",
       "      <td>1US AIRWAYS</td>\n",
       "      <td>B-737-200</td>\n",
       "      <td>A</td>\n",
       "      <td>...</td>\n",
       "      <td>0</td>\n",
       "      <td>0</td>\n",
       "      <td>0</td>\n",
       "      <td>0</td>\n",
       "      <td>0</td>\n",
       "      <td>0</td>\n",
       "      <td>0</td>\n",
       "      <td>0</td>\n",
       "      <td>0</td>\n",
       "      <td>1</td>\n",
       "    </tr>\n",
       "    <tr>\n",
       "      <th>2</th>\n",
       "      <td>GULL</td>\n",
       "      <td>4</td>\n",
       "      <td>100363</td>\n",
       "      <td>1990</td>\n",
       "      <td>2</td>\n",
       "      <td>22</td>\n",
       "      <td>NHK</td>\n",
       "      <td>FAA</td>\n",
       "      <td>CV-580</td>\n",
       "      <td>A</td>\n",
       "      <td>...</td>\n",
       "      <td>0</td>\n",
       "      <td>0</td>\n",
       "      <td>0</td>\n",
       "      <td>0</td>\n",
       "      <td>0</td>\n",
       "      <td>0</td>\n",
       "      <td>0</td>\n",
       "      <td>0</td>\n",
       "      <td>0</td>\n",
       "      <td>1</td>\n",
       "    </tr>\n",
       "  </tbody>\n",
       "</table>\n",
       "<p>3 rows × 68 columns</p>\n",
       "</div>"
      ],
      "text/plain": [
       "  Species Name Species Size  Record ID  Incident Year  Incident Month  \\\n",
       "0         GULL            4     127128           1990               1   \n",
       "1         GULL            4     107155           1990               1   \n",
       "2         GULL            4     100363           1990               2   \n",
       "\n",
       "   Incident Day Operator ID         Operator   Aircraft Aircraft Type   ...    \\\n",
       "0             1         DAL  DELTA AIR LINES  B-757-200             A   ...     \n",
       "1             8         USA      1US AIRWAYS  B-737-200             A   ...     \n",
       "2            22         NHK              FAA     CV-580             A   ...     \n",
       "\n",
       "  Fuselage Damage Landing Gear Strike  Landing Gear Damage  Tail Strike  \\\n",
       "0               0                   0                    0            1   \n",
       "1               0                   0                    0            0   \n",
       "2               0                   0                    0            0   \n",
       "\n",
       "  Tail Damage  Lights Strike Lights Damage Other Strike  Other Damage is_bird  \n",
       "0           1              0             0            0             0       1  \n",
       "1           0              0             0            0             0       1  \n",
       "2           0              0             0            0             0       1  \n",
       "\n",
       "[3 rows x 68 columns]"
      ]
     },
     "execution_count": 193,
     "metadata": {},
     "output_type": "execute_result"
    }
   ],
   "source": [
    "df2 = pd.merge(just_size_df, clean_df, on='Species Name')\n",
    "df2.head(3)"
   ]
  },
  {
   "cell_type": "code",
   "execution_count": 194,
   "metadata": {
    "ExecuteTime": {
     "end_time": "2018-08-05T05:33:18.751894Z",
     "start_time": "2018-08-05T05:33:18.321981Z"
    },
    "scrolled": true
   },
   "outputs": [
    {
     "data": {
      "text/plain": [
       "array(['MUNIAS', 'GEESE', 'HAWAIIAN DUCK', 'DUCKS', ' GEESE', ' SWANS',\n",
       "       'THRASHERS', ' MOCKINGBIRDS', ' CATBIRDS', 'HERONS', ' EGRETS',\n",
       "       ' BITTERNS', \"TOWNSEND'S SHEARWATER\", 'BLACK VULTURE', 'SHOREBIRD',\n",
       "       'TERNS', 'STARLINGS', 'OWLS', 'NEW WORLD VULTURES',\n",
       "       'GREAT FRIGATEBIRD', 'GULLS', ' KITTIWAKES', 'CROWS', ' RAVENS',\n",
       "       ' JAYS', 'MAGPIES', 'ORIOLES', 'THRUSHES', 'UPLAND SANDPIPER',\n",
       "       'RAPTORS: HAWKS', ' EAGLES', ' VULTURES', ' KITES', ' OSPREY',\n",
       "       ' F', 'PLOVERS', 'SCALY-BREASTED MUNIA', 'CHESTNUT MUNIA',\n",
       "       'EASTERN SCREECH-OWL', 'PARROTS', 'RAILS',\n",
       "       'AMERICAN GOLDEN-PLOVER', 'BLACKBIRDS', ' MEADOWLARKS', ' ORIOLES',\n",
       "       'LARK BUNTING', 'PTARMIGANS', 'PIGEONS', ' DOVES', 'SWIFTS',\n",
       "       'EURASIAN BLACKBIRD', 'GREBES', 'PELICANS', 'COMMON MOORHEN',\n",
       "       'IBISES', 'WOOD WARBLER', 'CORMORANTS', 'SWANS',\n",
       "       'AUSTRALIAN PELICAN', 'EAGLES', 'WOODPECKERS', ' PICULETS',\n",
       "       'YELLOW BITTERN', 'QUAILS', 'EURASIAN THICK-KNEE',\n",
       "       'LEAST SANDPIPER', 'TROPICBIRDS', 'PERCHING BIRDS',\n",
       "       'LAPPET-FACED VULTURE', 'BLACK KITE', 'CHICKADEES',\n",
       "       'TYRANT FLYCATCHERS', 'YELLOW-RUMPED WARBLER', 'CARRION CROW',\n",
       "       'WHITE STORK', 'BUFF-BREASTED SANDPIPER', 'TANAGERS',\n",
       "       'GRASSHOPPER SPARROW', 'PECTORAL SANDPIPER', 'LITTLE TERN',\n",
       "       'EURASIAN BUZZARD', 'VIREOS', \"WILSON'S WARBLER\", ' LAPWINGS',\n",
       "       'BONIN PETREL', 'SOUTHERN LAPWING', 'SCOPS', ' SCREECH OWLS',\n",
       "       'EURASIAN KESTREL', 'WHITE-THROATED MUNIA', 'SAGE SPARROW',\n",
       "       'FAIRY TERN', 'LARKS', 'HOODED CROW', 'CUCKOOS', ' ROADRUNNERS',\n",
       "       ' ANIS', 'PHILIPPINE DUCK', 'KITES', ' HAWKS', 'PIPITS',\n",
       "       'WHITE-BELLIED SEA-EAGLE', 'NIGHTJARS', 'COMMON WOOD-PIGEON',\n",
       "       'LESSER GOLDFINCH', 'HUMMINGBIRDS', 'RED-LEGGED PARTRIDGE',\n",
       "       'BOHEMIAN WAXWING', 'GRAY HERON', 'MOUNTAIN BLUEBIRD', 'WAXBILLS',\n",
       "       ' MANNIKINS', ' PARROTFINCHES', 'TROPICAL MOCKINGBIRD',\n",
       "       'PIPING PLOVER', 'ROOK', 'LOONS', 'LITTLE OWL',\n",
       "       \"NELSON'S SHARP-TAILED SPARROW\", 'BLACK DRONGO',\n",
       "       'DOUBLE-STRIPED THICK-KNEE', 'WHITE-CRESTED ELAENIA',\n",
       "       \"LE CONTE'S SPARROW\", 'INTERMEDIATE EGRET', \"BRANDT'S CORMORANT\",\n",
       "       'TOWHEES', 'BLACK-FACED BUNTING', 'GREAT CRESTED GREBE',\n",
       "       'RED PHALAROPE', 'PUFFINS', 'SONG THRUSH', 'NACUNDA NIGHTHAWK',\n",
       "       'SOUTH AMERICAN SNIPE', 'SHEARWATERS', 'OLIVE-THROATED PARAKEET',\n",
       "       'MOCKINGBIRDS', 'MEADOW PIPIT', 'CRANES', 'RAVENS',\n",
       "       'PICAZURO PIGEON', 'YELLOW-HEADED CARCARA'], dtype=object)"
      ]
     },
     "execution_count": 194,
     "metadata": {},
     "output_type": "execute_result"
    }
   ],
   "source": [
    "yes_bird_df = df2[df2['is_bird'] == 1]\n",
    "missing_size_species = yes_bird_df[yes_bird_df['Species Size'] == 'None']['Species Name'].unique()\n",
    "missing_size_species"
   ]
  },
  {
   "cell_type": "code",
   "execution_count": 237,
   "metadata": {
    "ExecuteTime": {
     "end_time": "2018-08-05T07:23:50.794033Z",
     "start_time": "2018-08-05T07:23:50.781470Z"
    }
   },
   "outputs": [],
   "source": [
    "# 3-5 in\n",
    "very_small = ['MUNIAS','SCALY-BREASTED MUNIA','CHESTNUT MUNIA','WOOD WARBLER',' PICULETS','PERCHING BIRDS',\n",
    "              'CHICKADEES','YELLOW-RUMPED WARBLER','GRASSHOPPER SPARROW',\"WILSON'S WARBLER\",'WHITE-THROATED MUNIA',\n",
    "              'SAGE SPARROW','PIPITS','LESSER GOLDFINCH','HUMMINGBIRDS','WAXBILLS',' MANNIKINS',' PARROTFINCHES',\n",
    "              \"NELSON'S SHARP-TAILED SPARROW\",\"LE CONTE'S SPARROW\"]\n",
    "\n",
    "# 5-9 in\n",
    "small = [' MOCKINGBIRDS',' CATBIRDS','SHOREBIRD','STARLINGS','ORIOLES','THRUSHES','UPLAND SANDPIPER','PLOVERS',\n",
    "         'EASTERN SCREECH-OWL',' ORIOLES','LARK BUNTING','SWIFTS','QUAILS','LEAST SANDPIPER','TYRANT FLYCATCHERS',\n",
    "         'BUFF-BREASTED SANDPIPER','TANAGERS','PECTORAL SANDPIPER','LITTLE TERN','VIREOS','SCOPS',' SCREECH OWLS',\n",
    "         'LARKS','NIGHTJARS','BOHEMIAN WAXWING','MOUNTAIN BLUEBIRD','TROPICAL MOCKINGBIRD','PIPING PLOVER',\n",
    "         'LITTLE OWL','WHITE-CRESTED ELAENIA','TOWHEES','BLACK-FACED BUNTING','RED PHALAROPE','SONG THRUSH','MOCKINGBIRDS',\n",
    "         'MEADOW PIPIT']\n",
    "\n",
    "#9-16 in\n",
    "medium = ['HAWAIIAN DUCK','DUCKS','THRASHERS',\"TOWNSEND'S SHEARWATER\",'TERNS','OWLS',' KITTIWAKES',' JAYS',\n",
    "          'RAPTORS: HAWKS','RAILS','AMERICAN GOLDEN-PLOVER','BLACKBIRDS',' MEADOWLARKS','PTARMIGANS',' DOVES',\n",
    "          'EURASIAN BLACKBIRD','GREBES','COMMON MOORHEN','WOODPECKERS','YELLOW BITTERN','EURASIAN THICK-KNEE',\n",
    "          ' LAPWINGS','BONIN PETREL','SOUTHERN LAPWING','EURASIAN KESTREL','FAIRY TERN','HOODED CROW','CUCKOOS',\n",
    "          ' ANIS','COMMON WOOD-PIGEON','RED-LEGGED PARTRIDGE','BLACK DRONGO','PUFFINS','NACUNDA NIGHTHAWK',\n",
    "          'SHEARWATERS','SOUTH AMERICAN SNIPE','OLIVE-THROATED PARAKEET','PICAZURO PIGEON']\n",
    "\n",
    "#16-32 in\n",
    "large = ['GEESE',' GEESE','BLACK VULTURE','NEW WORLD VULTURES','GULLS','CROWS',' RAVENS','MAGPIES',' EAGLES',\n",
    "         ' VULTURES',' KITES',' OSPREY','PIGEONS','IBISES','EAGLES','TROPICBIRDS','BLACK KITE','CARRION CROW',\n",
    "         'EURASIAN BUZZARD',' ROADRUNNERS','PHILIPPINE DUCK','KITES',' HAWKS','ROOK','LOONS','DOUBLE-STRIPED THICK-KNEE',\n",
    "         'INTERMEDIATE EGRET','GREAT CRESTED GREBE','RAVENS','YELLOW-HEADED CARCARA']\n",
    "\n",
    "#32-72 in\n",
    "very_large = [' SWANS','HERONS',' EGRETS',' BITTERNS','GREAT FRIGATEBIRD','PARROTS','PELICANS','CORMORANTS','SWANS',\n",
    "              'AUSTRALIAN PELICAN','LAPPET-FACED VULTURE','WHITE STORK','WHITE-BELLIED SEA-EAGLE','GRAY HERON',\n",
    "              \"BRANDT'S CORMORANT\",'CRANES']\n",
    "\n",
    "# not_a_bird = [' F']"
   ]
  },
  {
   "cell_type": "code",
   "execution_count": 196,
   "metadata": {
    "ExecuteTime": {
     "end_time": "2018-08-05T05:33:23.306229Z",
     "start_time": "2018-08-05T05:33:23.296837Z"
    }
   },
   "outputs": [],
   "source": [
    "#missing_size_df = pd.DataFrame(columns=['Species Name', 'Species Size'])\n",
    "#missing_size_df['Species Name'] = missing_size_species"
   ]
  },
  {
   "cell_type": "code",
   "execution_count": 238,
   "metadata": {
    "ExecuteTime": {
     "end_time": "2018-08-05T07:24:32.459002Z",
     "start_time": "2018-08-05T07:23:58.060268Z"
    }
   },
   "outputs": [
    {
     "name": "stderr",
     "output_type": "stream",
     "text": [
      "/anaconda3/lib/python3.6/site-packages/IPython/core/interactiveshell.py:2963: SettingWithCopyWarning: \n",
      "A value is trying to be set on a copy of a slice from a DataFrame\n",
      "\n",
      "See the caveats in the documentation: http://pandas.pydata.org/pandas-docs/stable/indexing.html#indexing-view-versus-copy\n",
      "  exec(code_obj, self.user_global_ns, self.user_ns)\n"
     ]
    }
   ],
   "source": [
    "for i in range(0, len(just_size_df)):\n",
    "    if just_size_df['Species Name'][i] in very_small:\n",
    "        just_size_df['Species Size'][i] = 1\n",
    "    \n",
    "    elif just_size_df['Species Name'][i] in small:\n",
    "        just_size_df['Species Size'][i] = 2\n",
    "        \n",
    "    elif just_size_df['Species Name'][i] in medium:\n",
    "        just_size_df['Species Size'][i] = 3\n",
    "    \n",
    "    elif just_size_df['Species Name'][i] in large:\n",
    "        just_size_df['Species Size'][i] = 4\n",
    "    \n",
    "    elif just_size_df['Species Name'][i] in very_large:\n",
    "        just_size_df['Species Size'][i] = 5\n",
    "    \n",
    "    else:\n",
    "        just_size_df['Species Size'][i] = just_size_df['Species Size'][i]"
   ]
  },
  {
   "cell_type": "code",
   "execution_count": 239,
   "metadata": {
    "ExecuteTime": {
     "end_time": "2018-08-05T07:24:39.208634Z",
     "start_time": "2018-08-05T07:24:38.485833Z"
    }
   },
   "outputs": [],
   "source": [
    "df3 = pd.merge(just_size_df, clean_df, on='Species Name')"
   ]
  },
  {
   "cell_type": "code",
   "execution_count": 248,
   "metadata": {
    "ExecuteTime": {
     "end_time": "2018-08-05T07:28:49.240576Z",
     "start_time": "2018-08-05T07:28:49.037464Z"
    },
    "scrolled": true
   },
   "outputs": [
    {
     "data": {
      "text/plain": [
       "3    68010\n",
       "2    61964\n",
       "4    27591\n",
       "1     2417\n",
       "5      246\n",
       "Name: Species Size, dtype: int64"
      ]
     },
     "execution_count": 248,
     "metadata": {},
     "output_type": "execute_result"
    }
   ],
   "source": [
    "df3 = df3[df3['Species Name'] != ' F']\n",
    "final_df = df3[df3['is_bird'] == 1]\n",
    "final_df['Species Size'].value_counts()"
   ]
  },
  {
   "cell_type": "code",
   "execution_count": 249,
   "metadata": {
    "ExecuteTime": {
     "end_time": "2018-08-05T07:29:24.806754Z",
     "start_time": "2018-08-05T07:29:24.394026Z"
    }
   },
   "outputs": [],
   "source": [
    "with open('final_df.pkl', 'wb') as picklefile:\n",
    "    pkl.dump(final_df ,picklefile)"
   ]
  }
 ],
 "metadata": {
  "kernelspec": {
   "display_name": "Python 3",
   "language": "python",
   "name": "python3"
  },
  "language_info": {
   "codemirror_mode": {
    "name": "ipython",
    "version": 3
   },
   "file_extension": ".py",
   "mimetype": "text/x-python",
   "name": "python",
   "nbconvert_exporter": "python",
   "pygments_lexer": "ipython3",
   "version": "3.6.6"
  },
  "varInspector": {
   "cols": {
    "lenName": 16,
    "lenType": 16,
    "lenVar": 40
   },
   "kernels_config": {
    "python": {
     "delete_cmd_postfix": "",
     "delete_cmd_prefix": "del ",
     "library": "var_list.py",
     "varRefreshCmd": "print(var_dic_list())"
    },
    "r": {
     "delete_cmd_postfix": ") ",
     "delete_cmd_prefix": "rm(",
     "library": "var_list.r",
     "varRefreshCmd": "cat(var_dic_list()) "
    }
   },
   "types_to_exclude": [
    "module",
    "function",
    "builtin_function_or_method",
    "instance",
    "_Feature"
   ],
   "window_display": false
  }
 },
 "nbformat": 4,
 "nbformat_minor": 2
}
